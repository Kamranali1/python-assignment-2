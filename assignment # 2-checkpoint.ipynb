{
 "cells": [
  {
   "cell_type": "code",
   "execution_count": 1,
   "metadata": {},
   "outputs": [
    {
     "name": "stdout",
     "output_type": "stream",
     "text": [
      "input your marks English 90\n",
      "input your marks Pakistan study 80\n",
      "input your marks Maths 88\n",
      "input your marks Physics 78\n",
      "input your marks Urdu 88\n",
      "A+\n"
     ]
    }
   ],
   "source": [
    "# to find grade \n",
    "sub1 = int(input(\"input your marks English \"));\n",
    "sub2 = int(input(\"input your marks Pakistan study \"));\n",
    "sub3 = int(input(\"input your marks Maths \"));\n",
    "sub4 = int(input(\"input your marks Physics \"));\n",
    "sub5 = int(input(\"input your marks Urdu \"));\n",
    "total_marks = sub1 + sub2 + sub3 + sub4 + sub5\n",
    "per = (total_marks/500)*100\n",
    "if per >= 80 and per <= 100 :\n",
    " print(\"A+\")\n",
    "elif per >= 70 and per < 80:\n",
    " print(\"A\")\n",
    "elif per >= 60 and per <= 70:\n",
    " print(\"B\")\n",
    "elif per >=50 and per < 60 :\n",
    " print(\"C\")\n",
    "elif per >= 40 and per < 50:\n",
    " print(\"D\")\n",
    "elif per >=30 and per < 40:\n",
    " print(\"E\")\n",
    "elif per >= 1 and per  < 30: \n",
    " print(\"Fail\")\n",
    "else :\n",
    " print(\"wrong input\")\n"
   ]
  },
  {
   "cell_type": "code",
   "execution_count": 3,
   "metadata": {},
   "outputs": [
    {
     "name": "stdout",
     "output_type": "stream",
     "text": [
      "input your number78\n",
      "78   is even\n"
     ]
    }
   ],
   "source": [
    "# to identify number is even or odd\n",
    "num = int(input(\"input your number\"));\n",
    "if num%2==0:\n",
    " print(num,\"  is even\")\n",
    "else :\n",
    " print(num,\" is odd\")"
   ]
  },
  {
   "cell_type": "code",
   "execution_count": 14,
   "metadata": {},
   "outputs": [
    {
     "name": "stdout",
     "output_type": "stream",
     "text": [
      "25\n"
     ]
    }
   ],
   "source": [
    "#to sum all  numeric items in a numeric list \n",
    "arr = [1,2,4,5,6,7]\n",
    "total = sum(arr)\n",
    "print(total)\n"
   ]
  },
  {
   "cell_type": "code",
   "execution_count": null,
   "metadata": {},
   "outputs": [],
   "source": []
  }
 ],
 "metadata": {
  "kernelspec": {
   "display_name": "Python 3",
   "language": "python",
   "name": "python3"
  },
  "language_info": {
   "codemirror_mode": {
    "name": "ipython",
    "version": 3
   },
   "file_extension": ".py",
   "mimetype": "text/x-python",
   "name": "python",
   "nbconvert_exporter": "python",
   "pygments_lexer": "ipython3",
   "version": "3.7.4"
  }
 },
 "nbformat": 4,
 "nbformat_minor": 2
}
